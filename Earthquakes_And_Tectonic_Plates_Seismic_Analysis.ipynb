{
  "metadata": {
    "kernelspec": {
      "language": "python",
      "display_name": "Python 3",
      "name": "python3"
    },
    "language_info": {
      "pygments_lexer": "ipython3",
      "nbconvert_exporter": "python",
      "version": "3.6.4",
      "file_extension": ".py",
      "codemirror_mode": {
        "name": "ipython",
        "version": 3
      },
      "name": "python",
      "mimetype": "text/x-python"
    },
    "colab": {
      "name": "Earthquakes And Tectonic Plates: Seismic Analysis",
      "provenance": []
    }
  },
  "nbformat_minor": 0,
  "nbformat": 4,
  "cells": [
    {
      "source": [
        "# IMPORTANT: RUN THIS CELL IN ORDER TO IMPORT YOUR KAGGLE DATA SOURCES,\n",
        "# THEN FEEL FREE TO DELETE THIS CELL.\n",
        "# NOTE: THIS NOTEBOOK ENVIRONMENT DIFFERS FROM KAGGLE'S PYTHON\n",
        "# ENVIRONMENT SO THERE MAY BE MISSING LIBRARIES USED BY YOUR\n",
        "# NOTEBOOK.\n",
        "import kagglehub\n",
        "organizations_usgs_earthquake_database_path = kagglehub.dataset_download('organizations/usgs/earthquake-database')\n",
        "cwthompson_tectonic_plate_boundaries_path = kagglehub.dataset_download('cwthompson/tectonic-plate-boundaries')\n",
        "\n",
        "print('Data source import complete.')\n"
      ],
      "metadata": {
        "id": "TXXd6YJWoSAb"
      },
      "cell_type": "code",
      "outputs": [],
      "execution_count": null
    },
    {
      "cell_type": "code",
      "source": [
        "# This Python 3 environment comes with many helpful analytics libraries installed\n",
        "# It is defined by the kaggle/python Docker image: https://github.com/kaggle/docker-python\n",
        "# For example, here's several helpful packages to load\n",
        "\n",
        "import numpy as np # linear algebra\n",
        "import pandas as pd # data processing, CSV file I/O (e.g. pd.read_csv)\n",
        "\n",
        "# Input data files are available in the read-only \"../input/\" directory\n",
        "# For example, running this (by clicking run or pressing Shift+Enter) will list all files under the input directory\n",
        "\n",
        "import os\n",
        "for dirname, _, filenames in os.walk('/kaggle/input'):\n",
        "    for filename in filenames:\n",
        "        print(os.path.join(dirname, filename))\n",
        "\n",
        "# You can write up to 20GB to the current directory (/kaggle/working/) that gets preserved as output when you create a version using \"Save & Run All\"\n",
        "# You can also write temporary files to /kaggle/temp/, but they won't be saved outside of the current session"
      ],
      "metadata": {
        "_uuid": "8f2839f25d086af736a60e9eeb907d3b93b6e0e5",
        "_cell_guid": "b1076dfc-b9ad-4769-8c92-a6c4dae69d19",
        "_kg_hide-input": true,
        "_kg_hide-output": true,
        "execution": {
          "iopub.status.busy": "2021-12-29T10:29:17.150533Z",
          "iopub.execute_input": "2021-12-29T10:29:17.150949Z",
          "iopub.status.idle": "2021-12-29T10:29:17.179441Z",
          "shell.execute_reply.started": "2021-12-29T10:29:17.150914Z",
          "shell.execute_reply": "2021-12-29T10:29:17.178011Z"
        },
        "trusted": true,
        "id": "umFn1y6GoSAe"
      },
      "execution_count": null,
      "outputs": []
    },
    {
      "cell_type": "markdown",
      "source": [
        " # <h1 style='background:#bc5090; border:0; color:black'><center>SEISMIC ANALYSIS</center></h1>\n",
        "\n",
        " **<span style=\"color:#bc5090;\">The Goal of this Notebook is to study the relationship between worldwide earthquake distribution and tectonic plate boundaries. </span>**\n",
        "\n",
        "**<span style=\"color:#bc5090;\">Note : This notebook is a bit heavy so may take a littel time to loadfull. Hold tight. </span>**\n",
        "\n",
        "**<span style=\"color:#bc5090;\">Cheers!</span>**\n",
        "\n",
        "![Orange%20and%20Pink%20Abstract%20Visual%20Arts%20Class%20Education%20Presentation%20%282%29.png](attachment:Orange%20and%20Pink%20Abstract%20Visual%20Arts%20Class%20Education%20Presentation%20%282%29.png)\n",
        "\n",
        "On March 27, 1964, at 5:36 pm an earthquake of magnitude 9.2 occurred in Alaska. The depth of Alaska's (64) earthquake was  25 km beneath the surface. The earthquake lasted approximately 4.5 minutes. It was followed by multiple Tsunamis recorded as high as 67 meters. It still holds the title of the most powerful recorded earthquake in the history of the United States. It is also the second-largest earthquake ever recorded, next to the M9.5 earthquake in Chile in 1960. This catastrophic event was a  great leap forward to the modern age of earthquake science. Most of what we know about earthquakes can be traced back to the geological research done after the great Alaskan earthquake.\n",
        "\n"
      ],
      "metadata": {
        "id": "vwpcc_jgoSAg"
      }
    },
    {
      "cell_type": "markdown",
      "source": [
        " # **<span style=\"color:#346888;\">TABLE OF CONTENTS</span>**"
      ],
      "metadata": {
        "id": "86q2fUgAoSAh"
      }
    },
    {
      "cell_type": "markdown",
      "source": [
        "**IMPORTING LIBRARIES**\n",
        "\n",
        "**LOADING DATA**\n",
        "\n",
        "**DATA PREPROCESSING**\n",
        "\n",
        "**DATA ANALYSIS**\n",
        "\n",
        "**GEOSPATIAL ANALYSIS AND VISUALIZATION**\n",
        "\n",
        "**CONCLUSIONS**"
      ],
      "metadata": {
        "id": "DHMRW5TsoSAh"
      }
    },
    {
      "cell_type": "markdown",
      "source": [
        " # **<span style=\"color:#346888;\">IMPORTING LIBRARIES</span>**"
      ],
      "metadata": {
        "id": "VOvgHiXJoSAi"
      }
    },
    {
      "cell_type": "code",
      "source": [
        "# Importing Libraries\n",
        "import numpy as np\n",
        "import pandas as pd\n",
        "import geopandas as gpd\n",
        "import matplotlib.pyplot as plt\n",
        "import seaborn as sns\n",
        "import folium\n",
        "from folium import Choropleth\n",
        "from folium.plugins import HeatMap\n",
        "import datetime\n",
        "\n",
        "np.random.seed(0)"
      ],
      "metadata": {
        "_uuid": "d629ff2d2480ee46fbb7e2d37f6b5fab8052498a",
        "_cell_guid": "79c7e3d0-c299-4dcb-8224-4455121ee9b0",
        "execution": {
          "iopub.status.busy": "2021-12-29T10:29:17.181492Z",
          "iopub.execute_input": "2021-12-29T10:29:17.182172Z",
          "iopub.status.idle": "2021-12-29T10:29:19.259578Z",
          "shell.execute_reply.started": "2021-12-29T10:29:17.182124Z",
          "shell.execute_reply": "2021-12-29T10:29:19.258571Z"
        },
        "trusted": true,
        "id": "RkjYzpnXoSAi"
      },
      "execution_count": null,
      "outputs": []
    },
    {
      "cell_type": "markdown",
      "source": [
        " # **<span style=\"color:#346888;\">LOADING DATA</span>**"
      ],
      "metadata": {
        "id": "gKM3Vo2CoSAi"
      }
    },
    {
      "cell_type": "code",
      "source": [
        "#loading data\n",
        "#eathquake data\n",
        "data = pd.read_csv(\"../input/earthquake-database/database.csv\")\n",
        "#dropping columns with missing values\n",
        "missing_values_columns = [col for col in data.columns\n",
        "                     if data[col].isnull().any()]\n",
        "data = data.drop(missing_values_columns, axis=1)\n",
        "data.head()"
      ],
      "metadata": {
        "_kg_hide-input": true,
        "execution": {
          "iopub.status.busy": "2021-12-29T10:29:19.262447Z",
          "iopub.execute_input": "2021-12-29T10:29:19.262899Z",
          "iopub.status.idle": "2021-12-29T10:29:19.43448Z",
          "shell.execute_reply.started": "2021-12-29T10:29:19.262852Z",
          "shell.execute_reply": "2021-12-29T10:29:19.433455Z"
        },
        "trusted": true,
        "id": "qSqh1HhLoSAj"
      },
      "execution_count": null,
      "outputs": []
    },
    {
      "cell_type": "code",
      "source": [
        "#loading data for tectonic plate boundaries\n",
        "tectonic_plates = pd.read_csv(\"../input/tectonic-plate-boundaries/all.csv\" )\n",
        "tectonic_plates.head()"
      ],
      "metadata": {
        "_kg_hide-input": true,
        "execution": {
          "iopub.status.busy": "2021-12-29T10:29:19.438542Z",
          "iopub.execute_input": "2021-12-29T10:29:19.438868Z",
          "iopub.status.idle": "2021-12-29T10:29:19.469525Z",
          "shell.execute_reply.started": "2021-12-29T10:29:19.438836Z",
          "shell.execute_reply": "2021-12-29T10:29:19.468298Z"
        },
        "trusted": true,
        "id": "tKrHSyLIoSAj"
      },
      "execution_count": null,
      "outputs": []
    },
    {
      "cell_type": "markdown",
      "source": [
        "It is not merely a coincidence that our data on earthquakes start in 1965.  The great Alaskan quake is the turning point on the studies of: \"What causes the earthquakes?\". The geologists concluded that the seismic events show a strong linkage to the landscape of Plate Tectonics. So our second dataset is that of the geospatial locations of Tectonic Plate Boundaries."
      ],
      "metadata": {
        "id": "EBxWZbPYoSAj"
      }
    },
    {
      "cell_type": "markdown",
      "source": [
        "![Orange%20and%20Pink%20Abstract%20Visual%20Arts%20Class%20Education%20Presentation%20%281%29.png](attachment:Orange%20and%20Pink%20Abstract%20Visual%20Arts%20Class%20Education%20Presentation%20%281%29.png)"
      ],
      "metadata": {
        "id": "lTOzTjhxoSAj"
      }
    },
    {
      "cell_type": "markdown",
      "source": [
        "# **<span style=\"color:#346888;\">DATA PREPROCESSING</span>**"
      ],
      "metadata": {
        "id": "5QYeoB_9oSAk"
      }
    },
    {
      "cell_type": "markdown",
      "source": [
        "**Steps involved in Data Preprocessing**\n",
        "* Parsing Date: Parsed Date to dtype datetime64(ns)\n",
        "* Parsing Time: Parsed Time to dtype timedelta64\n",
        "* Adding Attributes:\n",
        "\n",
        "    1. \"Date_Time\"- This column contains parsed values of datetime combined.\n",
        "    2. \"Days\"-This column contains parsed days of week"
      ],
      "metadata": {
        "id": "B1iGuo3LoSAk"
      }
    },
    {
      "cell_type": "code",
      "source": [
        "#Parsing datetime\n",
        "#exploring the length of date objects\n",
        "lengths = data[\"Date\"].str.len()\n",
        "lengths.value_counts()"
      ],
      "metadata": {
        "execution": {
          "iopub.status.busy": "2021-12-29T10:29:19.471555Z",
          "iopub.execute_input": "2021-12-29T10:29:19.472083Z",
          "iopub.status.idle": "2021-12-29T10:29:19.502437Z",
          "shell.execute_reply.started": "2021-12-29T10:29:19.472032Z",
          "shell.execute_reply": "2021-12-29T10:29:19.501487Z"
        },
        "trusted": true,
        "id": "cffKd5hnoSAk"
      },
      "execution_count": null,
      "outputs": []
    },
    {
      "cell_type": "code",
      "source": [
        "#having a look at the fishy datapoints\n",
        "wrongdates = np.where([lengths == 24])[1]\n",
        "print(\"Fishy dates:\", wrongdates)\n",
        "data.loc[wrongdates]"
      ],
      "metadata": {
        "execution": {
          "iopub.status.busy": "2021-12-29T10:29:19.505299Z",
          "iopub.execute_input": "2021-12-29T10:29:19.505946Z",
          "iopub.status.idle": "2021-12-29T10:29:19.557657Z",
          "shell.execute_reply.started": "2021-12-29T10:29:19.505894Z",
          "shell.execute_reply": "2021-12-29T10:29:19.556444Z"
        },
        "trusted": true,
        "id": "GHZz_FGQoSAk"
      },
      "execution_count": null,
      "outputs": []
    },
    {
      "cell_type": "code",
      "source": [
        "#fixing the wrong dates and changing the datatype from numpy object to datetime64[ns]\n",
        "data.loc[3378, \"Date\"] = \"02/23/1975\"\n",
        "data.loc[7512, \"Date\"] = \"04/28/1985\"\n",
        "data.loc[20650, \"Date\"] = \"03/13/2011\"\n",
        "data['Date']= pd.to_datetime(data[\"Date\"])\n",
        "data.info()"
      ],
      "metadata": {
        "execution": {
          "iopub.status.busy": "2021-12-29T10:29:19.559289Z",
          "iopub.execute_input": "2021-12-29T10:29:19.55971Z",
          "iopub.status.idle": "2021-12-29T10:29:19.699229Z",
          "shell.execute_reply.started": "2021-12-29T10:29:19.559676Z",
          "shell.execute_reply": "2021-12-29T10:29:19.697931Z"
        },
        "trusted": true,
        "id": "wBPZK8uioSAk"
      },
      "execution_count": null,
      "outputs": []
    },
    {
      "cell_type": "code",
      "source": [
        "#We have time data too. Now that we are at it,lets parse it as well.\n",
        "#exploring the length of time objects\n",
        "lengths = data[\"Time\"].str.len()\n",
        "lengths.value_counts()"
      ],
      "metadata": {
        "execution": {
          "iopub.status.busy": "2021-12-29T10:29:19.700796Z",
          "iopub.execute_input": "2021-12-29T10:29:19.701271Z",
          "iopub.status.idle": "2021-12-29T10:29:19.729513Z",
          "shell.execute_reply.started": "2021-12-29T10:29:19.701228Z",
          "shell.execute_reply": "2021-12-29T10:29:19.728324Z"
        },
        "trusted": true,
        "id": "0NxOlc7WoSAk"
      },
      "execution_count": null,
      "outputs": []
    },
    {
      "cell_type": "code",
      "source": [
        "#Having a look at the fishy datapoints\n",
        "wrongtime = np.where([lengths == 24])[1]\n",
        "print(\"Fishy time:\", wrongtime)\n",
        "data.loc[wrongtime]"
      ],
      "metadata": {
        "execution": {
          "iopub.status.busy": "2021-12-29T10:29:19.73201Z",
          "iopub.execute_input": "2021-12-29T10:29:19.732483Z",
          "iopub.status.idle": "2021-12-29T10:29:19.769269Z",
          "shell.execute_reply.started": "2021-12-29T10:29:19.732435Z",
          "shell.execute_reply": "2021-12-29T10:29:19.767137Z"
        },
        "trusted": true,
        "id": "Pt8pDWtqoSAk"
      },
      "execution_count": null,
      "outputs": []
    },
    {
      "cell_type": "code",
      "source": [
        "#Ah! Is it deja vu or are those the same datapoints\n",
        "#fixing the wrong time and changing the datatype from numpy object to timedelta64[ns]\n",
        "data.loc[3378, \"Time\"] = \"02:58:41\"\n",
        "data.loc[7512, \"Time\"] = \"02:53:41\"\n",
        "data.loc[20650, \"Time\"] = \"02:23:34\"\n",
        "data['Time']= pd.to_timedelta(data['Time'])\n",
        "data.info()"
      ],
      "metadata": {
        "execution": {
          "iopub.status.busy": "2021-12-29T10:29:19.770939Z",
          "iopub.execute_input": "2021-12-29T10:29:19.771657Z",
          "iopub.status.idle": "2021-12-29T10:29:19.839595Z",
          "shell.execute_reply.started": "2021-12-29T10:29:19.771608Z",
          "shell.execute_reply": "2021-12-29T10:29:19.838327Z"
        },
        "trusted": true,
        "id": "XDgkw9UToSAk"
      },
      "execution_count": null,
      "outputs": []
    },
    {
      "cell_type": "code",
      "source": [
        "#I don't think there is any point in doing this step, but why not!\n",
        "data[\"Date_Time\"]=data[\"Date\"] +data[\"Time\"]"
      ],
      "metadata": {
        "execution": {
          "iopub.status.busy": "2021-12-29T10:29:19.841342Z",
          "iopub.execute_input": "2021-12-29T10:29:19.841953Z",
          "iopub.status.idle": "2021-12-29T10:29:19.851518Z",
          "shell.execute_reply.started": "2021-12-29T10:29:19.841903Z",
          "shell.execute_reply": "2021-12-29T10:29:19.850368Z"
        },
        "trusted": true,
        "id": "bEwdX_fOoSAk"
      },
      "execution_count": null,
      "outputs": []
    },
    {
      "cell_type": "code",
      "source": [
        "#Now that we have Date, Time (and Date_Time) we totally should have Days of week too. I mean that's only fair.\n",
        "data[\"Days\"]= data.Date.dt.strftime(\"%A\")"
      ],
      "metadata": {
        "execution": {
          "iopub.status.busy": "2021-12-29T10:29:19.857029Z",
          "iopub.execute_input": "2021-12-29T10:29:19.857671Z",
          "iopub.status.idle": "2021-12-29T10:29:20.058717Z",
          "shell.execute_reply.started": "2021-12-29T10:29:19.857636Z",
          "shell.execute_reply": "2021-12-29T10:29:20.057762Z"
        },
        "trusted": true,
        "id": "mB0ylExxoSAl"
      },
      "execution_count": null,
      "outputs": []
    },
    {
      "cell_type": "code",
      "source": [
        "#Lets have a look at data\n",
        "data.head()"
      ],
      "metadata": {
        "_kg_hide-input": true,
        "execution": {
          "iopub.status.busy": "2021-12-29T10:29:20.061516Z",
          "iopub.execute_input": "2021-12-29T10:29:20.062168Z",
          "iopub.status.idle": "2021-12-29T10:29:20.08883Z",
          "shell.execute_reply.started": "2021-12-29T10:29:20.062118Z",
          "shell.execute_reply": "2021-12-29T10:29:20.087682Z"
        },
        "trusted": true,
        "id": "gTTgogXmoSAl"
      },
      "execution_count": null,
      "outputs": []
    },
    {
      "cell_type": "code",
      "source": [
        "#Lets have a look\n",
        "data.info()"
      ],
      "metadata": {
        "_kg_hide-input": true,
        "execution": {
          "iopub.status.busy": "2021-12-29T10:29:20.090527Z",
          "iopub.execute_input": "2021-12-29T10:29:20.091275Z",
          "iopub.status.idle": "2021-12-29T10:29:20.125976Z",
          "shell.execute_reply.started": "2021-12-29T10:29:20.091226Z",
          "shell.execute_reply": "2021-12-29T10:29:20.124651Z"
        },
        "trusted": true,
        "id": "27Vxy4kcoSAl"
      },
      "execution_count": null,
      "outputs": []
    },
    {
      "cell_type": "markdown",
      "source": [
        "# **<span style=\"color:#346888;\">DATA ANALYSIS</span>**"
      ],
      "metadata": {
        "id": "1QOeAJIXoSAl"
      }
    },
    {
      "cell_type": "markdown",
      "source": [
        "We begin our analysis by plotting a line plot of magnitudes with dates. This showed a time series of various earthquakes on the planet from 1965 to 2016. Taking the first look at the plot we may conclude that there was a relatively high seismic activity from 1965 to early 1970s."
      ],
      "metadata": {
        "id": "2QhzJ64ZoSAl"
      }
    },
    {
      "cell_type": "code",
      "source": [
        "#plotting a lineplot with magnitudes with respectto dates\n",
        "plt.figure(figsize=(12,8))\n",
        "Time_series=sns.lineplot(x=data['Date'].dt.year,y=\"Magnitude\",data=data, color=\"#ffa600\")\n",
        "Time_series.set_title(\"Time Series Of Earthquakes Over Years\", color=\"#58508d\")\n",
        "Time_series.set_ylabel(\"Magnitude\", color=\"#58508d\")\n",
        "Time_series.set_xlabel(\"Date\", color=\"#58508d\")"
      ],
      "metadata": {
        "_kg_hide-input": true,
        "execution": {
          "iopub.status.busy": "2021-12-29T10:29:20.127837Z",
          "iopub.execute_input": "2021-12-29T10:29:20.128609Z",
          "iopub.status.idle": "2021-12-29T10:29:22.840435Z",
          "shell.execute_reply.started": "2021-12-29T10:29:20.128559Z",
          "shell.execute_reply": "2021-12-29T10:29:22.839262Z"
        },
        "trusted": true,
        "id": "6xh4iZ8goSAl"
      },
      "execution_count": null,
      "outputs": []
    },
    {
      "cell_type": "markdown",
      "source": [
        "However, Our data also includes earthquake caused by nuclear explosions, explosions and rockburst. In order to have a clear distinction about the seismic activities, we must rule out if this high magnitude events were due to other man-made causes.\n",
        "In the next plot, we examine that for further clarity."
      ],
      "metadata": {
        "id": "tK-3HoKyoSAl"
      }
    },
    {
      "cell_type": "code",
      "source": [
        "#Plotting timeseries with respect to Type to geta better understanding\n",
        "plt.figure(figsize=(12,8))\n",
        "colours = [\"#ffa600\",\"#bc5090\",\"#ff6361\",\"#003f5c\"]\n",
        "Time_series_Type=sns.lineplot(x=data['Date'].dt.year,y=\"Magnitude\",data=data,hue=\"Type\", palette= colours)\n",
        "Time_series_Type.set_title(\"Time Series Of Earthquakes Over Years (With Type)\", color=\"#58508d\")\n",
        "Time_series_Type.set_ylabel(\"Magnitude\", color=\"#58508d\")\n",
        "Time_series_Type.set_xlabel(\"Date\", color=\"#58508d\")"
      ],
      "metadata": {
        "_kg_hide-input": true,
        "execution": {
          "iopub.status.busy": "2021-12-29T10:29:22.842379Z",
          "iopub.execute_input": "2021-12-29T10:29:22.843236Z",
          "iopub.status.idle": "2021-12-29T10:29:26.721992Z",
          "shell.execute_reply.started": "2021-12-29T10:29:22.843164Z",
          "shell.execute_reply": "2021-12-29T10:29:26.720768Z"
        },
        "trusted": true,
        "id": "CzUwx-tWoSAl"
      },
      "execution_count": null,
      "outputs": []
    },
    {
      "cell_type": "markdown",
      "source": [
        "From the above plot, we may conclude that there were, indeed, relatively high magnitude events in the late 60s and early 70s. However, not all of those were due to seismic causes.Much of it was associate with other causes. The plot shows a peek in nuclear explosions and explosions in the 1970s.\n",
        "\n",
        "In the next section, we will see the distribution of earthquake on the days of the week."
      ],
      "metadata": {
        "id": "aqnuOJ6HoSAl"
      }
    },
    {
      "cell_type": "code",
      "source": [
        "#Evauating earthquake in terms of days of week\n",
        "plt.figure(figsize=(12,8))\n",
        "Days_of_week=sns.barplot(x=data['Days'],y=\"Magnitude\",data=data, ci =None, hue =\"Type\",palette = colours)\n",
        "Days_of_week.set_title(\"Distribution Of Earthquakes Intensity Over Days Of Week\", color=\"#58508d\")\n",
        "Days_of_week.set_ylabel(\"Magnitude\", color=\"#58508d\")\n",
        "Days_of_week.set_xlabel(\"Days Of Week\", color=\"#58508d\")"
      ],
      "metadata": {
        "_kg_hide-input": true,
        "execution": {
          "iopub.status.busy": "2021-12-29T10:29:26.723434Z",
          "iopub.execute_input": "2021-12-29T10:29:26.723913Z",
          "iopub.status.idle": "2021-12-29T10:29:27.064542Z",
          "shell.execute_reply.started": "2021-12-29T10:29:26.723867Z",
          "shell.execute_reply": "2021-12-29T10:29:27.063279Z"
        },
        "trusted": true,
        "id": "97-_VnJloSAl"
      },
      "execution_count": null,
      "outputs": []
    },
    {
      "cell_type": "markdown",
      "source": [
        "<span style=\"color:#003f5c;\"> This is an interesting find as we may conclude that the gods of earthquakes work around the clock and don't even take weekends off. Or do they! Unless they work in shifts. Huh! </span>"
      ],
      "metadata": {
        "id": "S8cTsswLoSAl"
      }
    },
    {
      "cell_type": "markdown",
      "source": [
        "**The depth of earthquakes and mean depth**"
      ],
      "metadata": {
        "id": "5PlI7v4VoSAl"
      }
    },
    {
      "cell_type": "code",
      "source": [
        "#Plotting the depth of earthquake and mean depth\n",
        "\n",
        "plt.figure(figsize=(12,8))\n",
        "depth = data[\"Depth\"].values\n",
        "mean_D= data[\"Depth\"].mean()\n",
        "Depth_plot = sns.distplot(depth, color =\"#003f5c\")\n",
        "Depth_plot.set_title(\"Depths of Earthquakes\", color=\"#58508d\")\n",
        "Depth_plot.set_ylabel(\"Density\", color=\"#58508d\")\n",
        "Depth_plot.set_xlabel(\"Depth\", color=\"#58508d\")\n",
        "\n",
        "plt.axvline(mean_D,0,1, color=\"#58508d\",linewidth=4,label=\"Mean\")"
      ],
      "metadata": {
        "_kg_hide-input": true,
        "execution": {
          "iopub.status.busy": "2021-12-29T10:29:27.066549Z",
          "iopub.execute_input": "2021-12-29T10:29:27.067041Z",
          "iopub.status.idle": "2021-12-29T10:29:27.401674Z",
          "shell.execute_reply.started": "2021-12-29T10:29:27.066994Z",
          "shell.execute_reply": "2021-12-29T10:29:27.400507Z"
        },
        "trusted": true,
        "id": "FFbQ_rs_oSAl"
      },
      "execution_count": null,
      "outputs": []
    },
    {
      "cell_type": "markdown",
      "source": [
        "**The magnitude of earthquakes and mean magnitute**"
      ],
      "metadata": {
        "id": "6IGCAF77oSAl"
      }
    },
    {
      "cell_type": "code",
      "source": [
        "#ploting the magnitude of earthquake and mean magnitute\n",
        "\n",
        "plt.figure(figsize=(12,9))\n",
        "strength = data[\"Magnitude\"].values\n",
        "mean_M= data[\"Magnitude\"].mean()\n",
        "Magnitude_plot = sns.distplot(strength, color =\"#ffa600\")\n",
        "Magnitude_plot.set_title(\"Magnitudes of Earthquakes\", color=\"#58508d\")\n",
        "Magnitude_plot.set_ylabel(\"Density\", color=\"#58508d\")\n",
        "Magnitude_plot.set_xlabel(\"Magnitude\", color=\"#58508d\")\n",
        "\n",
        "plt.axvline(mean_M,0,1, color=\"#58508d\",linewidth=4,label=\"Mean\")"
      ],
      "metadata": {
        "_kg_hide-input": true,
        "execution": {
          "iopub.status.busy": "2021-12-29T10:29:27.403524Z",
          "iopub.execute_input": "2021-12-29T10:29:27.40398Z",
          "iopub.status.idle": "2021-12-29T10:29:27.724473Z",
          "shell.execute_reply.started": "2021-12-29T10:29:27.403932Z",
          "shell.execute_reply": "2021-12-29T10:29:27.723317Z"
        },
        "trusted": true,
        "id": "1TX7jlwToSAm"
      },
      "execution_count": null,
      "outputs": []
    },
    {
      "cell_type": "markdown",
      "source": [
        "# **<span style=\"color:#346888;\">GEOSPATIAL ANALYSIS AND VISUALIZATION</span>**"
      ],
      "metadata": {
        "id": "LRXRorB5oSAm"
      }
    },
    {
      "cell_type": "markdown",
      "source": [
        "Earth’s crust, the uppermost layer of earth, is extremely thin in comparison to the volume of the Earth compared to what lies below it. it has an uneven thickness of as little as 5 kilometres (at Hawaii ) to as thick as 70 kilometres. The crust is broken into large pieces called tectonic plates. It is speculated that the heat-driven convection currents of magma in the mantle of the earth makes these plates move 1.2 to 2 inches each year. this movement of plated explains many geological phenomena. It is believed to cause most earthquakes and volcanoes on earth.\n",
        "\n",
        "In the next section, we will assess if there is any correlation in the occurrence of earthquakes and tectonic plates.\n",
        "\n",
        "First of all, let's plot the boundaries of the tectonic plate on a map. Then we will examine if the plate boundaries hold any relation to the locations of the earthquakes in our data."
      ],
      "metadata": {
        "id": "_ZpfkgFzoSAm"
      }
    },
    {
      "cell_type": "markdown",
      "source": [
        "**Tectonic plate boundaries on a Map**"
      ],
      "metadata": {
        "id": "e8lNj9zzoSAm"
      }
    },
    {
      "cell_type": "code",
      "source": [
        "#Ploting the tectonic plate's boundaries\n",
        "tectonic = folium.Map(tiles=\"cartodbpositron\", zoom_start=5)\n",
        "\n",
        "plates = list(tectonic_plates[\"plate\"].unique())\n",
        "for plate in plates:\n",
        "    plate_vals = tectonic_plates[tectonic_plates[\"plate\"] == plate]\n",
        "    lats = plate_vals[\"lat\"].values\n",
        "    lons = plate_vals[\"lon\"].values\n",
        "    points = list(zip(lats, lons))\n",
        "    indexes = [None] + [i + 1 for i, x in enumerate(points) if i < len(points) - 1 and abs(x[1] - points[i + 1][1]) > 300] + [None]\n",
        "    for i in range(len(indexes) - 1):\n",
        "        folium.vector_layers.PolyLine(points[indexes[i]:indexes[i+1]], popup=plate, color=\"#58508d\", fill=False, ).add_to(tectonic)\n",
        "\n",
        "tectonic"
      ],
      "metadata": {
        "_kg_hide-input": true,
        "execution": {
          "iopub.status.busy": "2021-12-29T10:29:27.726935Z",
          "iopub.execute_input": "2021-12-29T10:29:27.727402Z",
          "iopub.status.idle": "2021-12-29T10:29:28.152277Z",
          "shell.execute_reply.started": "2021-12-29T10:29:27.727352Z",
          "shell.execute_reply": "2021-12-29T10:29:28.151269Z"
        },
        "trusted": true,
        "id": "6IY3V9maoSAr"
      },
      "execution_count": null,
      "outputs": []
    },
    {
      "cell_type": "markdown",
      "source": [
        "**Tectonic plate boundaries along with the earthquake location on a Map**"
      ],
      "metadata": {
        "id": "tJ6AhP0LoSAr"
      }
    },
    {
      "cell_type": "code",
      "source": [
        "#Plottong the plates along with the earthquake\n",
        "tectonic_quake = folium.Map(tiles=\"cartodbpositron\", zoom_start=5)\n",
        "gradient = {.33: \"#7a5195\", .66: \"#ef5675\", 1: \"#ffa600\"}\n",
        "plates = list(tectonic_plates[\"plate\"].unique())\n",
        "for plate in plates:\n",
        "    plate_vals = tectonic_plates[tectonic_plates[\"plate\"] == plate]\n",
        "    lats = plate_vals[\"lat\"].values\n",
        "    lons = plate_vals[\"lon\"].values\n",
        "    points = list(zip(lats, lons))\n",
        "    indexes = [None] + [i + 1 for i, x in enumerate(points) if i < len(points) - 1 and abs(x[1] - points[i + 1][1]) > 300] + [None]\n",
        "    for i in range(len(indexes) - 1):\n",
        "        folium.vector_layers.PolyLine(points[indexes[i]:indexes[i+1]], popup=plate, fill=False,  color=\"#58508d\").add_to(tectonic_quake)\n",
        "        HeatMap(data=data[[\"Latitude\", \"Longitude\"]],hue=\"Magnitude\",min_opacity=0.5,radius=1,gradient=gradient).add_to(tectonic_quake)\n",
        "tectonic_quake"
      ],
      "metadata": {
        "_kg_hide-input": true,
        "execution": {
          "iopub.status.busy": "2021-12-29T10:29:28.153931Z",
          "iopub.execute_input": "2021-12-29T10:29:28.154709Z",
          "iopub.status.idle": "2021-12-29T10:29:55.993069Z",
          "shell.execute_reply.started": "2021-12-29T10:29:28.154667Z",
          "shell.execute_reply": "2021-12-29T10:29:55.991584Z"
        },
        "trusted": true,
        "id": "QtLf1cWboSAr"
      },
      "execution_count": null,
      "outputs": []
    },
    {
      "cell_type": "markdown",
      "source": [
        "The plate boundaries do coincide with the earthquakes in our data. However, some of the data points are of the quakes are caused by other events (In column \"Types\"; namely, \"NuclearExplosion\", \"Explosion\"&\"Rock Burst\"). Let's plot onlt the Type-Earthquakes to see the difference."
      ],
      "metadata": {
        "id": "fwaTV3oAoSAr"
      }
    },
    {
      "cell_type": "code",
      "source": [
        "# A edit in data to the eartquake type to only earthquake and dropping others as \"Nuclear Explosion\",\"Explosion\" and \"Rock Burst\"\n",
        "data_onlyquakes= data.set_index(\"Type\")\n",
        "data_onlyquakes=data_onlyquakes.drop([\"Nuclear Explosion\",\"Explosion\",\"Rock Burst\"],axis=0)\n"
      ],
      "metadata": {
        "_kg_hide-input": true,
        "_kg_hide-output": true,
        "execution": {
          "iopub.status.busy": "2021-12-29T10:29:55.994957Z",
          "iopub.execute_input": "2021-12-29T10:29:55.995628Z",
          "iopub.status.idle": "2021-12-29T10:29:56.022683Z",
          "shell.execute_reply.started": "2021-12-29T10:29:55.995576Z",
          "shell.execute_reply": "2021-12-29T10:29:56.021139Z"
        },
        "trusted": true,
        "id": "3Ly0KckGoSAr"
      },
      "execution_count": null,
      "outputs": []
    },
    {
      "cell_type": "markdown",
      "source": [
        "**Tectonic plate boundaries along with the earthquake of \"Type\" \"Earthquake\" location on a Map**"
      ],
      "metadata": {
        "id": "qTkkrBILoSAr"
      }
    },
    {
      "cell_type": "code",
      "source": [
        "#plotting the the eartquake type to only earthquake\n",
        "\n",
        "tectonic_quake = folium.Map(tiles=\"cartodbpositron\", zoom_start=5)\n",
        "plates = list(tectonic_plates[\"plate\"].unique())\n",
        "for plate in plates:\n",
        "    plate_vals = tectonic_plates[tectonic_plates[\"plate\"] == plate]\n",
        "    lats = plate_vals[\"lat\"].values\n",
        "    lons = plate_vals[\"lon\"].values\n",
        "    points = list(zip(lats, lons))\n",
        "    indexes = [None] + [i + 1 for i, x in enumerate(points) if i < len(points) - 1 and abs(x[1] - points[i + 1][1]) > 300] + [None]\n",
        "    for i in range(len(indexes) - 1):\n",
        "        folium.vector_layers.PolyLine(points[indexes[i]:indexes[i+1]], popup=plate, fill=False,  color=\"#58508d\").add_to(tectonic_quake)\n",
        "        HeatMap(data=data_onlyquakes[[\"Latitude\", \"Longitude\"]], min_opacity=0.5,max_zoom=40,max_val=0.5,radius=1,gradient=gradient).add_to(tectonic_quake)\n",
        "\n",
        "tectonic_quake"
      ],
      "metadata": {
        "_kg_hide-input": true,
        "execution": {
          "iopub.status.busy": "2021-12-29T10:29:56.024581Z",
          "iopub.execute_input": "2021-12-29T10:29:56.025247Z",
          "iopub.status.idle": "2021-12-29T10:30:23.794615Z",
          "shell.execute_reply.started": "2021-12-29T10:29:56.025175Z",
          "shell.execute_reply": "2021-12-29T10:30:23.791353Z"
        },
        "trusted": true,
        "id": "7hu_V99woSAr"
      },
      "execution_count": null,
      "outputs": []
    },
    {
      "cell_type": "markdown",
      "source": [
        "This shows that some of the earthquakes that lie away from the boundaries of the tectonic plates were, in fact, caused by events as; Nuclear, Explosion or Rock Burst. Majority of quakes are around the edge of the tectonic plates. This shows a clear visualisation of the relation between quakes and tectonic plates.\n",
        "\n",
        "After establishing the relation of earthquakes with the plates, in the next section, we are going to examine if there is any association of tectonic plates and the magnitude or depth of quakes.\n",
        "\n",
        "We will assess the magnitude and depth one by one. Firstly, let's dive into the magnitudes\n",
        "\n",
        "For the Magnitude, we plot magnitudes in three ranges\n",
        "\n",
        "1)Magnitude with values less than 5.9\n",
        "\n",
        "2)Magnitude with values less than 6.5\n",
        "\n",
        "3)Magnitude with values more than 6.5"
      ],
      "metadata": {
        "id": "wLq2eD-woSAs"
      }
    },
    {
      "cell_type": "code",
      "source": [
        "# Create a base map with plate boundaries and deapth\n",
        "Mag_tectonics  = folium.Map(tiles=\"cartodbpositron\", zoom_start=5)\n",
        "gradient = {.33: \"#628d82\", .66: \"#a3c5bf\", 1: \"#eafffd\"}\n",
        "plates = list(tectonic_plates[\"plate\"].unique())\n",
        "for plate in plates:\n",
        "    plate_vals = tectonic_plates[tectonic_plates[\"plate\"] == plate]\n",
        "    lats = plate_vals[\"lat\"].values\n",
        "    lons = plate_vals[\"lon\"].values\n",
        "    points = list(zip(lats, lons))\n",
        "    indexes = [None] + [i + 1 for i, x in enumerate(points) if i < len(points) - 1 and abs(x[1] - points[i + 1][1]) > 300] + [None]\n",
        "    for i in range(len(indexes) - 1):\n",
        "        folium.vector_layers.PolyLine(points[indexes[i]:indexes[i+1]], fill=False,  color=\"#58508d\").add_to(Mag_tectonics)\n",
        "\n",
        "def colormag(val):\n",
        "            if val < 5.9:\n",
        "                return \"#ffcf6a\"\n",
        "            elif val < 6.5:\n",
        "                return \"#fb8270\"\n",
        "            else:\n",
        "                return \"#bc5090\"\n",
        "\n",
        "for i in range(0,len(data)):\n",
        "    folium.Circle(location=[data.iloc[i][\"Latitude\"], data.iloc[i][\"Longitude\"]],radius=2000, color=colormag(data.iloc[i][\"Magnitude\"])).add_to(Mag_tectonics)\n",
        "\n",
        "#A bit of extra code to get legent\n",
        "from branca.element import Template, MacroElement\n",
        "\n",
        "template = \"\"\"\n",
        "{% macro html(this, kwargs) %}\n",
        "\n",
        "<!doctype html>\n",
        "<html lang=\"en\">\n",
        "<head>\n",
        "  <meta charset=\"utf-8\">\n",
        "  <meta name=\"viewport\" content=\"width=device-width, initial-scale=1\">\n",
        "  <title>jQuery UI Draggable - Default functionality</title>\n",
        "  <link rel=\"stylesheet\" href=\"//code.jquery.com/ui/1.12.1/themes/base/jquery-ui.css\">\n",
        "\n",
        "  <script src=\"https://code.jquery.com/jquery-1.12.4.js\"></script>\n",
        "  <script src=\"https://code.jquery.com/ui/1.12.1/jquery-ui.js\"></script>\n",
        "\n",
        "</head>\n",
        "<body>\n",
        "\n",
        "\n",
        "<div id='maplegend' class='maplegend'\n",
        "    style='position: absolute; z-index:9999; border:2px solid grey; background-color:rgba(255, 255, 255, 0.8);\n",
        "     border-radius:6px; padding: 10px; font-size:14px; right: 20px; bottom: 20px;'>\n",
        "\n",
        "<div class='legend-title'>Magnitude Scale </div>\n",
        "<div class='legend-scale'>\n",
        "  <ul class='legend-labels'>\n",
        "    <li><span style='background:#ffcf6a;opacity:1;'></span>values less than 5.9</li>\n",
        "    <li><span style='background:#fb8270;opacity:1;'></span>values less than 6.5</li>\n",
        "    <li><span style='background:#bc5090;opacity:1;'></span>values less than 6.5</li>\n",
        "\n",
        "  </ul>\n",
        "</div>\n",
        "</div>\n",
        "\n",
        "</body>\n",
        "</html>\n",
        "\n",
        "<style type='text/css'>\n",
        "  .maplegend .legend-title {\n",
        "    text-align: left;\n",
        "    margin-bottom: 5px;\n",
        "    font-weight: bold;\n",
        "    font-size: 90%;\n",
        "    }\n",
        "  .maplegend .legend-scale ul {\n",
        "    margin: 0;\n",
        "    margin-bottom: 5px;\n",
        "    padding: 0;\n",
        "    float: left;\n",
        "    list-style: none;\n",
        "    }\n",
        "  .maplegend .legend-scale ul li {\n",
        "    font-size: 80%;\n",
        "    list-style: none;\n",
        "    margin-left: 0;\n",
        "    line-height: 18px;\n",
        "    margin-bottom: 2px;\n",
        "    }\n",
        "  .maplegend ul.legend-labels li span {\n",
        "    display: block;\n",
        "    float: left;\n",
        "    height: 16px;\n",
        "    width: 30px;\n",
        "    margin-right: 5px;\n",
        "    margin-left: 0;\n",
        "    border: 1px solid #999;\n",
        "    }\n",
        "  .maplegend .legend-source {\n",
        "    font-size: 80%;\n",
        "    color: #777;\n",
        "    clear: both;\n",
        "    }\n",
        "  .maplegend a {\n",
        "    color: #777;\n",
        "    }\n",
        "</style>\n",
        "{% endmacro %}\"\"\"\n",
        "\n",
        "macro = MacroElement()\n",
        "macro._template = Template(template)\n",
        "\n",
        "Mag_tectonics.get_root().add_child(macro)\n",
        "\n",
        "Mag_tectonics"
      ],
      "metadata": {
        "_kg_hide-input": true,
        "execution": {
          "iopub.status.busy": "2021-12-29T10:30:23.796372Z",
          "iopub.execute_input": "2021-12-29T10:30:23.796845Z",
          "iopub.status.idle": "2021-12-29T10:31:13.47426Z",
          "shell.execute_reply.started": "2021-12-29T10:30:23.796794Z",
          "shell.execute_reply": "2021-12-29T10:31:13.472885Z"
        },
        "trusted": true,
        "id": "_vRhZChToSAs"
      },
      "execution_count": null,
      "outputs": []
    },
    {
      "cell_type": "markdown",
      "source": [
        "We can see that the magnitude distribution of earthquakes does not hold any association with plate boundaries. There does not appear to be any pattern and the magnitude is randomly distributed. We may discard any relation of the magnitude of earthquakes with plate location.\n",
        "\n",
        "Next up is Depth:\n",
        "\n",
        "For the Depth, we plot depth in three ranges\n",
        "\n",
        "1)The Depth values less than 50 KM\n",
        "\n",
        "2)The Depth values less than 100 KM\n",
        "\n",
        "3) The Depth values more than 100 km"
      ],
      "metadata": {
        "id": "EgANNTZ6oSAs"
      }
    },
    {
      "cell_type": "code",
      "source": [
        "# Create a base map with plate boundaries and deapth\n",
        "Depth_tectonics  = folium.Map(tiles=\"cartodbpositron\", zoom_start=5)\n",
        "gradient = {.33: \"#628d82\", .66: \"#a3c5bf\", 1: \"#eafffd\"}\n",
        "plates = list(tectonic_plates[\"plate\"].unique())\n",
        "for plate in plates:\n",
        "    plate_vals = tectonic_plates[tectonic_plates[\"plate\"] == plate]\n",
        "    lats = plate_vals[\"lat\"].values\n",
        "    lons = plate_vals[\"lon\"].values\n",
        "    points = list(zip(lats, lons))\n",
        "    indexes = [None] + [i + 1 for i, x in enumerate(points) if i < len(points) - 1 and abs(x[1] - points[i + 1][1]) > 300] + [None]\n",
        "    for i in range(len(indexes) - 1):\n",
        "        folium.vector_layers.PolyLine(points[indexes[i]:indexes[i+1]],fill=False,  color=\"#58508d\").add_to(Depth_tectonics)\n",
        "\n",
        "def colordepth(val):\n",
        "            if val < 50:\n",
        "                return \"#ffcf6a\"\n",
        "            elif val < 100:\n",
        "                return \"#fb8270\"\n",
        "            else:\n",
        "                return \"#bc5090\"\n",
        "\n",
        "for i in range(0,len(data)):\n",
        "    folium.Circle(location=[data.iloc[i][\"Latitude\"], data.iloc[i][\"Longitude\"]],radius=2000, color=colordepth(data.iloc[i][\"Depth\"])).add_to(Depth_tectonics)\n",
        "\n",
        "#A bit of extra code to get legent\n",
        "from branca.element import Template, MacroElement\n",
        "\n",
        "template = \"\"\"\n",
        "{% macro html(this, kwargs) %}\n",
        "\n",
        "<!doctype html>\n",
        "<html lang=\"en\">\n",
        "<head>\n",
        "  <meta charset=\"utf-8\">\n",
        "  <meta name=\"viewport\" content=\"width=device-width, initial-scale=1\">\n",
        "  <title>jQuery UI Draggable - Default functionality</title>\n",
        "  <link rel=\"stylesheet\" href=\"//code.jquery.com/ui/1.12.1/themes/base/jquery-ui.css\">\n",
        "\n",
        "  <script src=\"https://code.jquery.com/jquery-1.12.4.js\"></script>\n",
        "  <script src=\"https://code.jquery.com/ui/1.12.1/jquery-ui.js\"></script>\n",
        "\n",
        "</head>\n",
        "<body>\n",
        "\n",
        "\n",
        "<div id='maplegend' class='maplegend'\n",
        "    style='position: absolute; z-index:9999; border:2px solid grey; background-color:rgba(255, 255, 255, 0.8);\n",
        "     border-radius:6px; padding: 10px; font-size:14px; right: 20px; bottom: 20px;'>\n",
        "\n",
        "<div class='legend-title'>Depth Scale </div>\n",
        "<div class='legend-scale'>\n",
        "  <ul class='legend-labels'>\n",
        "    <li><span style='background:#ffcf6a;opacity:1;'></span>Depth less than 50</li>\n",
        "    <li><span style='background:#fb8270;opacity:1;'></span>Depth less than 100</li>\n",
        "    <li><span style='background:#bc5090;opacity:1;'></span>Depth more than 100</li>\n",
        "\n",
        "  </ul>\n",
        "</div>\n",
        "</div>\n",
        "\n",
        "</body>\n",
        "</html>\n",
        "\n",
        "<style type='text/css'>\n",
        "  .maplegend .legend-title {\n",
        "    text-align: left;\n",
        "    margin-bottom: 5px;\n",
        "    font-weight: bold;\n",
        "    font-size: 90%;\n",
        "    }\n",
        "  .maplegend .legend-scale ul {\n",
        "    margin: 0;\n",
        "    margin-bottom: 5px;\n",
        "    padding: 0;\n",
        "    float: left;\n",
        "    list-style: none;\n",
        "    }\n",
        "  .maplegend .legend-scale ul li {\n",
        "    font-size: 80%;\n",
        "    list-style: none;\n",
        "    margin-left: 0;\n",
        "    line-height: 18px;\n",
        "    margin-bottom: 2px;\n",
        "    }\n",
        "  .maplegend ul.legend-labels li span {\n",
        "    display: block;\n",
        "    float: left;\n",
        "    height: 16px;\n",
        "    width: 30px;\n",
        "    margin-right: 5px;\n",
        "    margin-left: 0;\n",
        "    border: 1px solid #999;\n",
        "    }\n",
        "  .maplegend .legend-source {\n",
        "    font-size: 80%;\n",
        "    color: #777;\n",
        "    clear: both;\n",
        "    }\n",
        "  .maplegend a {\n",
        "    color: #777;\n",
        "    }\n",
        "</style>\n",
        "{% endmacro %}\"\"\"\n",
        "\n",
        "macro = MacroElement()\n",
        "macro._template = Template(template)\n",
        "\n",
        "Depth_tectonics.get_root().add_child(macro)\n",
        "\n",
        "Depth_tectonics"
      ],
      "metadata": {
        "_kg_hide-input": true,
        "execution": {
          "iopub.status.busy": "2021-12-29T10:31:13.476902Z",
          "iopub.execute_input": "2021-12-29T10:31:13.478708Z",
          "iopub.status.idle": "2021-12-29T10:32:02.677081Z",
          "shell.execute_reply.started": "2021-12-29T10:31:13.478636Z",
          "shell.execute_reply": "2021-12-29T10:32:02.675641Z"
        },
        "trusted": true,
        "id": "CbNSI2q-oSAs"
      },
      "execution_count": null,
      "outputs": []
    },
    {
      "cell_type": "markdown",
      "source": [
        "There appears to be a correlation between the depth of an earthquake and its distance from plate boundaries. When you look closely, you may see a pattern. Earthquakes closer to plate borders tend to be shallower, whereas earthquakes further away appear to be deeper."
      ],
      "metadata": {
        "id": "yvmAVU69oSAs"
      }
    },
    {
      "cell_type": "markdown",
      "source": [
        "# <h1 style='background:#bc5090; border:0; color:black'><center>CONCLUSIONS</center></h1>\n",
        "![Orange%20and%20Pink%20Abstract%20Visual%20Arts%20Class%20Education%20Presentation%20%283%29.png](attachment:Orange%20and%20Pink%20Abstract%20Visual%20Arts%20Class%20Education%20Presentation%20%283%29.png)"
      ],
      "metadata": {
        "trusted": true,
        "id": "71KZRGnNoSAs"
      }
    },
    {
      "cell_type": "markdown",
      "source": [
        "**<span style=\"color:#346888;\"> If you liked this Notebook, please do upvote.</span>**\n",
        "\n",
        "**<span style=\"color:#346888;\"> If you have any suggestions or questions, I am all ears!</span>**\n",
        "\n",
        "**<span style=\"color:#346888;\">Best Wishes!</span>**\n",
        "\n",
        "# <h1 style='background:#bc5090; border:0; color:black'><center>END</center></h1>"
      ],
      "metadata": {
        "id": "9vItO9czoSAs"
      }
    }
  ]
}